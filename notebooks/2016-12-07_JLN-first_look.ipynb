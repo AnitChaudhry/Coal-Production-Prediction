{
 "cells": [
  {
   "cell_type": "code",
   "execution_count": 76,
   "metadata": {
    "collapsed": false
   },
   "outputs": [],
   "source": [
    "#import sys\n",
    "#sys.path\n",
    "#sys.path.append('</Users/shirojean/miniconda2/lib/python2.7/site-packages>')\n",
    "#!conda info\n",
    "% matplotlib inline\n",
    "\n",
    "import matplotlib.pyplot as plt\n",
    "import pandas as pd\n",
    "import numpy as np\n",
    "import seaborn as sns\n",
    "sns.set();\n"
   ]
  },
  {
   "cell_type": "markdown",
   "metadata": {},
   "source": [
    "# 1.0 Load Data \n",
    "Date Source: http://www.eia.gov/coal/data.php#production"
   ]
  },
  {
   "cell_type": "code",
   "execution_count": 77,
   "metadata": {
    "collapsed": false
   },
   "outputs": [
    {
     "data": {
      "text/html": [
       "<div>\n",
       "<table border=\"1\" class=\"dataframe\">\n",
       "  <thead>\n",
       "    <tr style=\"text-align: right;\">\n",
       "      <th></th>\n",
       "      <th>Year</th>\n",
       "      <th>Mine Name</th>\n",
       "      <th>Mine State</th>\n",
       "      <th>Mine County</th>\n",
       "      <th>Mine Status</th>\n",
       "      <th>Mine Type</th>\n",
       "      <th>Company Type</th>\n",
       "      <th>Operation Type</th>\n",
       "      <th>Operating Company</th>\n",
       "      <th>Operating Company Address</th>\n",
       "      <th>Union Code</th>\n",
       "      <th>Coal Supply Region</th>\n",
       "      <th>Production (short tons)</th>\n",
       "      <th>Average Employees</th>\n",
       "      <th>Labor Hours</th>\n",
       "    </tr>\n",
       "    <tr>\n",
       "      <th>MSHA ID</th>\n",
       "      <th></th>\n",
       "      <th></th>\n",
       "      <th></th>\n",
       "      <th></th>\n",
       "      <th></th>\n",
       "      <th></th>\n",
       "      <th></th>\n",
       "      <th></th>\n",
       "      <th></th>\n",
       "      <th></th>\n",
       "      <th></th>\n",
       "      <th></th>\n",
       "      <th></th>\n",
       "      <th></th>\n",
       "      <th></th>\n",
       "    </tr>\n",
       "  </thead>\n",
       "  <tbody>\n",
       "    <tr>\n",
       "      <th>103381</th>\n",
       "      <td>2015</td>\n",
       "      <td>Jesse Creek H.W.M.</td>\n",
       "      <td>Alabama</td>\n",
       "      <td>Bibb</td>\n",
       "      <td>Active</td>\n",
       "      <td>Surface</td>\n",
       "      <td>Indepedent Producer Operator</td>\n",
       "      <td>Mine only</td>\n",
       "      <td>Jesse Creek Mining,llc</td>\n",
       "      <td>1615 Kent Dairy Rd, Alabaster, AL 35007</td>\n",
       "      <td>NaN</td>\n",
       "      <td>Appalachia Southern</td>\n",
       "      <td>62598</td>\n",
       "      <td>6</td>\n",
       "      <td>13713</td>\n",
       "    </tr>\n",
       "    <tr>\n",
       "      <th>103246</th>\n",
       "      <td>2015</td>\n",
       "      <td>Bear Creek</td>\n",
       "      <td>Alabama</td>\n",
       "      <td>Franklin</td>\n",
       "      <td>Temporarily closed</td>\n",
       "      <td>Surface</td>\n",
       "      <td>Indepedent Producer Operator</td>\n",
       "      <td>Mine only</td>\n",
       "      <td>Birmingham Coal &amp; Coke Co., In</td>\n",
       "      <td>912 Edenton Street, Birmingham, AL 35242</td>\n",
       "      <td>NaN</td>\n",
       "      <td>Appalachia Southern</td>\n",
       "      <td>25481</td>\n",
       "      <td>9</td>\n",
       "      <td>17641</td>\n",
       "    </tr>\n",
       "    <tr>\n",
       "      <th>103451</th>\n",
       "      <td>2015</td>\n",
       "      <td>Knight Mine</td>\n",
       "      <td>Alabama</td>\n",
       "      <td>Franklin</td>\n",
       "      <td>Temporarily closed</td>\n",
       "      <td>Surface</td>\n",
       "      <td>Indepedent Producer Operator</td>\n",
       "      <td>Mine only</td>\n",
       "      <td>Birmingham Coal &amp; Coke Co., In</td>\n",
       "      <td>P.O. Box 354, Lynn, AL 35242</td>\n",
       "      <td>NaN</td>\n",
       "      <td>Appalachia Southern</td>\n",
       "      <td>121474</td>\n",
       "      <td>21</td>\n",
       "      <td>51729</td>\n",
       "    </tr>\n",
       "    <tr>\n",
       "      <th>102933</th>\n",
       "      <td>2015</td>\n",
       "      <td>Mine No 2</td>\n",
       "      <td>Alabama</td>\n",
       "      <td>Jackson</td>\n",
       "      <td>Temporarily closed</td>\n",
       "      <td>Surface</td>\n",
       "      <td>Indepedent Producer Operator</td>\n",
       "      <td>Mine only</td>\n",
       "      <td>Alabama Carbon, Llc</td>\n",
       "      <td>5957 Windswept Blvd, Wise, VA 24293</td>\n",
       "      <td>NaN</td>\n",
       "      <td>Appalachia Southern</td>\n",
       "      <td>3939</td>\n",
       "      <td>5</td>\n",
       "      <td>5287</td>\n",
       "    </tr>\n",
       "    <tr>\n",
       "      <th>100329</th>\n",
       "      <td>2015</td>\n",
       "      <td>Concord Mine</td>\n",
       "      <td>Alabama</td>\n",
       "      <td>Jefferson</td>\n",
       "      <td>Active</td>\n",
       "      <td>Underground</td>\n",
       "      <td>Operating Subsidiary</td>\n",
       "      <td>Preparation Plant</td>\n",
       "      <td>Oak Grove Resources Llc</td>\n",
       "      <td>8360 Taylors Ferry Rd, Hueytown, AL 35023</td>\n",
       "      <td>United Mine Workers Of America</td>\n",
       "      <td>Appalachia Southern</td>\n",
       "      <td>0</td>\n",
       "      <td>52</td>\n",
       "      <td>119679</td>\n",
       "    </tr>\n",
       "  </tbody>\n",
       "</table>\n",
       "</div>"
      ],
      "text/plain": [
       "         Year           Mine Name Mine State Mine County         Mine Status  \\\n",
       "MSHA ID                                                                        \n",
       "103381   2015  Jesse Creek H.W.M.    Alabama        Bibb              Active   \n",
       "103246   2015          Bear Creek    Alabama    Franklin  Temporarily closed   \n",
       "103451   2015         Knight Mine    Alabama    Franklin  Temporarily closed   \n",
       "102933   2015           Mine No 2    Alabama     Jackson  Temporarily closed   \n",
       "100329   2015        Concord Mine    Alabama   Jefferson              Active   \n",
       "\n",
       "           Mine Type                  Company Type     Operation Type  \\\n",
       "MSHA ID                                                                 \n",
       "103381       Surface  Indepedent Producer Operator          Mine only   \n",
       "103246       Surface  Indepedent Producer Operator          Mine only   \n",
       "103451       Surface  Indepedent Producer Operator          Mine only   \n",
       "102933       Surface  Indepedent Producer Operator          Mine only   \n",
       "100329   Underground          Operating Subsidiary  Preparation Plant   \n",
       "\n",
       "                      Operating Company  \\\n",
       "MSHA ID                                   \n",
       "103381           Jesse Creek Mining,llc   \n",
       "103246   Birmingham Coal & Coke Co., In   \n",
       "103451   Birmingham Coal & Coke Co., In   \n",
       "102933              Alabama Carbon, Llc   \n",
       "100329          Oak Grove Resources Llc   \n",
       "\n",
       "                         Operating Company Address  \\\n",
       "MSHA ID                                              \n",
       "103381     1615 Kent Dairy Rd, Alabaster, AL 35007   \n",
       "103246    912 Edenton Street, Birmingham, AL 35242   \n",
       "103451                P.O. Box 354, Lynn, AL 35242   \n",
       "102933         5957 Windswept Blvd, Wise, VA 24293   \n",
       "100329   8360 Taylors Ferry Rd, Hueytown, AL 35023   \n",
       "\n",
       "                             Union Code   Coal Supply Region  \\\n",
       "MSHA ID                                                        \n",
       "103381                              NaN  Appalachia Southern   \n",
       "103246                              NaN  Appalachia Southern   \n",
       "103451                              NaN  Appalachia Southern   \n",
       "102933                              NaN  Appalachia Southern   \n",
       "100329   United Mine Workers Of America  Appalachia Southern   \n",
       "\n",
       "         Production (short tons)  Average Employees  Labor Hours  \n",
       "MSHA ID                                                           \n",
       "103381                     62598                  6        13713  \n",
       "103246                     25481                  9        17641  \n",
       "103451                    121474                 21        51729  \n",
       "102933                      3939                  5         5287  \n",
       "100329                         0                 52       119679  "
      ]
     },
     "execution_count": 77,
     "metadata": {},
     "output_type": "execute_result"
    }
   ],
   "source": [
    "#Set index to MSHA ID\n",
    "df1=pd.read_excel('../data/coalpublic2015.xls',header=2, index_col='MSHA ID')\n",
    "df1.head()"
   ]
  },
  {
   "cell_type": "markdown",
   "metadata": {},
   "source": [
    "## 1.1 Preprocess Data\n",
    "From the dataframe, we can see the header column starts and row 2; Need to process data in a more clean way"
   ]
  },
  {
   "cell_type": "code",
   "execution_count": 78,
   "metadata": {
    "collapsed": false
   },
   "outputs": [
    {
     "name": "stdout",
     "output_type": "stream",
     "text": [
      "<class 'pandas.core.frame.DataFrame'>\n",
      "Int64Index: 1171 entries, 103381 to 1518524\n",
      "Data columns (total 15 columns):\n",
      "Year                         1171 non-null int64\n",
      "Mine Name                    1171 non-null object\n",
      "Mine State                   1171 non-null object\n",
      "Mine County                  1171 non-null object\n",
      "Mine Status                  1171 non-null object\n",
      "Mine Type                    1171 non-null object\n",
      "Company Type                 1171 non-null object\n",
      "Operation Type               1171 non-null object\n",
      "Operating Company            1171 non-null object\n",
      "Operating Company Address    1171 non-null object\n",
      "Union Code                   85 non-null object\n",
      "Coal Supply Region           1170 non-null object\n",
      "Production (short tons)      1171 non-null int64\n",
      "Average Employees            1171 non-null int64\n",
      "Labor Hours                  1171 non-null int64\n",
      "dtypes: int64(4), object(11)\n",
      "memory usage: 146.4+ KB\n"
     ]
    }
   ],
   "source": [
    "df1.info()"
   ]
  },
  {
   "cell_type": "code",
   "execution_count": 79,
   "metadata": {
    "collapsed": false
   },
   "outputs": [
    {
     "data": {
      "text/plain": [
       "array([u'Indepedent Producer Operator', u'Operating Subsidiary',\n",
       "       u'Contractor'], dtype=object)"
      ]
     },
     "execution_count": 79,
     "metadata": {},
     "output_type": "execute_result"
    }
   ],
   "source": [
    "#take a peek on what is in each colume\n",
    "df1['Company Type'].unique()"
   ]
  },
  {
   "cell_type": "code",
   "execution_count": 80,
   "metadata": {
    "collapsed": false
   },
   "outputs": [],
   "source": [
    "# replace the mispelling of the workd indepedent\n",
    "df1['Company Type'].replace(to_replace='Indepedent Producer Operator', \n",
    "                            value = 'Independent Producer Operator', inplace=True)"
   ]
  },
  {
   "cell_type": "code",
   "execution_count": 81,
   "metadata": {
    "collapsed": false
   },
   "outputs": [
    {
     "data": {
      "text/plain": [
       "MSHA ID\n",
       "103381    Independent Producer Operator\n",
       "103246    Independent Producer Operator\n",
       "103451    Independent Producer Operator\n",
       "102933    Independent Producer Operator\n",
       "100329             Operating Subsidiary\n",
       "Name: Company Type, dtype: object"
      ]
     },
     "execution_count": 81,
     "metadata": {},
     "output_type": "execute_result"
    }
   ],
   "source": [
    "df1 ['Company Type'].head()"
   ]
  },
  {
   "cell_type": "code",
   "execution_count": 82,
   "metadata": {
    "collapsed": false
   },
   "outputs": [
    {
     "data": {
      "text/html": [
       "<div>\n",
       "<table border=\"1\" class=\"dataframe\">\n",
       "  <thead>\n",
       "    <tr style=\"text-align: right;\">\n",
       "      <th></th>\n",
       "      <th>Year</th>\n",
       "      <th>Mine_Name</th>\n",
       "      <th>Mine_State</th>\n",
       "      <th>Mine_County</th>\n",
       "      <th>Mine_Status</th>\n",
       "      <th>Mine_Type</th>\n",
       "      <th>Company_Type</th>\n",
       "      <th>Operation_Type</th>\n",
       "      <th>Operating_Company</th>\n",
       "      <th>Operating_Company_Address</th>\n",
       "      <th>Union_Code</th>\n",
       "      <th>Coal_Supply_Region</th>\n",
       "      <th>Production_(short_tons)</th>\n",
       "      <th>Average_Employees</th>\n",
       "      <th>Labor_Hours</th>\n",
       "    </tr>\n",
       "    <tr>\n",
       "      <th>MSHA ID</th>\n",
       "      <th></th>\n",
       "      <th></th>\n",
       "      <th></th>\n",
       "      <th></th>\n",
       "      <th></th>\n",
       "      <th></th>\n",
       "      <th></th>\n",
       "      <th></th>\n",
       "      <th></th>\n",
       "      <th></th>\n",
       "      <th></th>\n",
       "      <th></th>\n",
       "      <th></th>\n",
       "      <th></th>\n",
       "      <th></th>\n",
       "    </tr>\n",
       "  </thead>\n",
       "  <tbody>\n",
       "    <tr>\n",
       "      <th>103381</th>\n",
       "      <td>2015</td>\n",
       "      <td>Jesse Creek H.W.M.</td>\n",
       "      <td>Alabama</td>\n",
       "      <td>Bibb</td>\n",
       "      <td>Active</td>\n",
       "      <td>Surface</td>\n",
       "      <td>Independent Producer Operator</td>\n",
       "      <td>Mine only</td>\n",
       "      <td>Jesse Creek Mining,llc</td>\n",
       "      <td>1615 Kent Dairy Rd, Alabaster, AL 35007</td>\n",
       "      <td>NaN</td>\n",
       "      <td>Appalachia Southern</td>\n",
       "      <td>62598</td>\n",
       "      <td>6</td>\n",
       "      <td>13713</td>\n",
       "    </tr>\n",
       "    <tr>\n",
       "      <th>103246</th>\n",
       "      <td>2015</td>\n",
       "      <td>Bear Creek</td>\n",
       "      <td>Alabama</td>\n",
       "      <td>Franklin</td>\n",
       "      <td>Temporarily closed</td>\n",
       "      <td>Surface</td>\n",
       "      <td>Independent Producer Operator</td>\n",
       "      <td>Mine only</td>\n",
       "      <td>Birmingham Coal &amp; Coke Co., In</td>\n",
       "      <td>912 Edenton Street, Birmingham, AL 35242</td>\n",
       "      <td>NaN</td>\n",
       "      <td>Appalachia Southern</td>\n",
       "      <td>25481</td>\n",
       "      <td>9</td>\n",
       "      <td>17641</td>\n",
       "    </tr>\n",
       "    <tr>\n",
       "      <th>103451</th>\n",
       "      <td>2015</td>\n",
       "      <td>Knight Mine</td>\n",
       "      <td>Alabama</td>\n",
       "      <td>Franklin</td>\n",
       "      <td>Temporarily closed</td>\n",
       "      <td>Surface</td>\n",
       "      <td>Independent Producer Operator</td>\n",
       "      <td>Mine only</td>\n",
       "      <td>Birmingham Coal &amp; Coke Co., In</td>\n",
       "      <td>P.O. Box 354, Lynn, AL 35242</td>\n",
       "      <td>NaN</td>\n",
       "      <td>Appalachia Southern</td>\n",
       "      <td>121474</td>\n",
       "      <td>21</td>\n",
       "      <td>51729</td>\n",
       "    </tr>\n",
       "    <tr>\n",
       "      <th>102933</th>\n",
       "      <td>2015</td>\n",
       "      <td>Mine No 2</td>\n",
       "      <td>Alabama</td>\n",
       "      <td>Jackson</td>\n",
       "      <td>Temporarily closed</td>\n",
       "      <td>Surface</td>\n",
       "      <td>Independent Producer Operator</td>\n",
       "      <td>Mine only</td>\n",
       "      <td>Alabama Carbon, Llc</td>\n",
       "      <td>5957 Windswept Blvd, Wise, VA 24293</td>\n",
       "      <td>NaN</td>\n",
       "      <td>Appalachia Southern</td>\n",
       "      <td>3939</td>\n",
       "      <td>5</td>\n",
       "      <td>5287</td>\n",
       "    </tr>\n",
       "    <tr>\n",
       "      <th>100329</th>\n",
       "      <td>2015</td>\n",
       "      <td>Concord Mine</td>\n",
       "      <td>Alabama</td>\n",
       "      <td>Jefferson</td>\n",
       "      <td>Active</td>\n",
       "      <td>Underground</td>\n",
       "      <td>Operating Subsidiary</td>\n",
       "      <td>Preparation Plant</td>\n",
       "      <td>Oak Grove Resources Llc</td>\n",
       "      <td>8360 Taylors Ferry Rd, Hueytown, AL 35023</td>\n",
       "      <td>United Mine Workers Of America</td>\n",
       "      <td>Appalachia Southern</td>\n",
       "      <td>0</td>\n",
       "      <td>52</td>\n",
       "      <td>119679</td>\n",
       "    </tr>\n",
       "  </tbody>\n",
       "</table>\n",
       "</div>"
      ],
      "text/plain": [
       "         Year           Mine_Name Mine_State Mine_County         Mine_Status  \\\n",
       "MSHA ID                                                                        \n",
       "103381   2015  Jesse Creek H.W.M.    Alabama        Bibb              Active   \n",
       "103246   2015          Bear Creek    Alabama    Franklin  Temporarily closed   \n",
       "103451   2015         Knight Mine    Alabama    Franklin  Temporarily closed   \n",
       "102933   2015           Mine No 2    Alabama     Jackson  Temporarily closed   \n",
       "100329   2015        Concord Mine    Alabama   Jefferson              Active   \n",
       "\n",
       "           Mine_Type                   Company_Type     Operation_Type  \\\n",
       "MSHA ID                                                                  \n",
       "103381       Surface  Independent Producer Operator          Mine only   \n",
       "103246       Surface  Independent Producer Operator          Mine only   \n",
       "103451       Surface  Independent Producer Operator          Mine only   \n",
       "102933       Surface  Independent Producer Operator          Mine only   \n",
       "100329   Underground           Operating Subsidiary  Preparation Plant   \n",
       "\n",
       "                      Operating_Company  \\\n",
       "MSHA ID                                   \n",
       "103381           Jesse Creek Mining,llc   \n",
       "103246   Birmingham Coal & Coke Co., In   \n",
       "103451   Birmingham Coal & Coke Co., In   \n",
       "102933              Alabama Carbon, Llc   \n",
       "100329          Oak Grove Resources Llc   \n",
       "\n",
       "                         Operating_Company_Address  \\\n",
       "MSHA ID                                              \n",
       "103381     1615 Kent Dairy Rd, Alabaster, AL 35007   \n",
       "103246    912 Edenton Street, Birmingham, AL 35242   \n",
       "103451                P.O. Box 354, Lynn, AL 35242   \n",
       "102933         5957 Windswept Blvd, Wise, VA 24293   \n",
       "100329   8360 Taylors Ferry Rd, Hueytown, AL 35023   \n",
       "\n",
       "                             Union_Code   Coal_Supply_Region  \\\n",
       "MSHA ID                                                        \n",
       "103381                              NaN  Appalachia Southern   \n",
       "103246                              NaN  Appalachia Southern   \n",
       "103451                              NaN  Appalachia Southern   \n",
       "102933                              NaN  Appalachia Southern   \n",
       "100329   United Mine Workers Of America  Appalachia Southern   \n",
       "\n",
       "         Production_(short_tons)  Average_Employees  Labor_Hours  \n",
       "MSHA ID                                                           \n",
       "103381                     62598                  6        13713  \n",
       "103246                     25481                  9        17641  \n",
       "103451                    121474                 21        51729  \n",
       "102933                      3939                  5         5287  \n",
       "100329                         0                 52       119679  "
      ]
     },
     "execution_count": 82,
     "metadata": {},
     "output_type": "execute_result"
    }
   ],
   "source": [
    "#rename columns to include underscore the remove the spaces between the words ind_Producer_operator\n",
    "df1.rename(columns=lambda x: x.replace(\" \", \"_\"), inplace=True) \n",
    "df1.head()"
   ]
  },
  {
   "cell_type": "code",
   "execution_count": 83,
   "metadata": {
    "collapsed": false
   },
   "outputs": [
    {
     "data": {
      "text/plain": [
       "1171"
      ]
     },
     "execution_count": 83,
     "metadata": {},
     "output_type": "execute_result"
    }
   ],
   "source": [
    "len(df1)"
   ]
  },
  {
   "cell_type": "code",
   "execution_count": 84,
   "metadata": {
    "collapsed": false
   },
   "outputs": [
    {
     "data": {
      "text/plain": [
       "<matplotlib.text.Text at 0x114f71f50>"
      ]
     },
     "execution_count": 84,
     "metadata": {},
     "output_type": "execute_result"
    },
    {
     "data": {
      "image/png": "[encoded data removed]",
      "text/plain": [
       "<matplotlib.figure.Figure at 0x115123510>"
      ]
     },
     "metadata": {},
     "output_type": "display_data"
    }
   ],
   "source": [
    "plt.scatter(df1.Average_Employees, df1.Labor_Hours)\n",
    "plt.xlabel(' Total Number of Employees')\n",
    "plt.ylabel('Total Number of Hours worked')"
   ]
  },
  {
   "cell_type": "code",
   "execution_count": 85,
   "metadata": {
    "collapsed": false
   },
   "outputs": [
    {
     "data": {
      "image/png": "[encoded data removed]",
      "text/plain": [
       "<matplotlib.figure.Figure at 0x114f5ff50>"
      ]
     },
     "metadata": {},
     "output_type": "display_data"
    }
   ],
   "source": [
    "#using seaborn regression plot\n",
    "sns.regplot(df1.Average_Employees, df1.Labor_Hours, ci=95, n_boot=1000)\n",
    "plt.savefig(\"../figures/2016-12-7\" + \"employees vs hours.png\")"
   ]
  },
  {
   "cell_type": "markdown",
   "metadata": {},
   "source": [
    "The first plot, uses basic scatter plot to show the relationship between Employees vs number of hours work\n",
    "As the number of emplyees goes up, the total number of hours worked increases at the mines in a linear relationship. \n",
    "\n",
    "Second plot, using seaborn; show the same trend, but fits a line in the data, and gives it a bootstrapping in the middle of the line. "
   ]
  },
  {
   "cell_type": "code",
   "execution_count": 86,
   "metadata": {
    "collapsed": false
   },
   "outputs": [
    {
     "name": "stdout",
     "output_type": "stream",
     "text": [
      "Year\n",
      "Mine_Name\n",
      "Mine_State\n",
      "Mine_County\n",
      "Mine_Status\n",
      "Mine_Type\n",
      "Company_Type\n",
      "Operation_Type\n",
      "Operating_Company\n",
      "Operating_Company_Address\n",
      "Union_Code\n",
      "Coal_Supply_Region\n",
      "Production_(short_tons)\n",
      "Average_Employees\n",
      "Labor_Hours\n"
     ]
    }
   ],
   "source": [
    "#look at the columns in a couple of ways\n",
    " \n",
    "#df1.info()\n",
    "\n",
    "for column in df1.columns:\n",
    "    print column"
   ]
  },
  {
   "cell_type": "code",
   "execution_count": 87,
   "metadata": {
    "collapsed": false
   },
   "outputs": [
    {
     "data": {
      "text/plain": [
       "<matplotlib.collections.PathCollection at 0x115530d50>"
      ]
     },
     "execution_count": 87,
     "metadata": {},
     "output_type": "execute_result"
    },
    {
     "data": {
      "image/png": "[encoded data removed]",
      "text/plain": [
       "<matplotlib.figure.Figure at 0x113e112d0>"
      ]
     },
     "metadata": {},
     "output_type": "display_data"
    }
   ],
   "source": [
    "plt.scatter(df1.Labor_Hours, df1['Production_(short_tons)'])"
   ]
  },
  {
   "cell_type": "code",
   "execution_count": 88,
   "metadata": {
    "collapsed": false
   },
   "outputs": [
    {
     "data": {
      "text/plain": [
       "<matplotlib.axes._subplots.AxesSubplot at 0x11533f290>"
      ]
     },
     "execution_count": 88,
     "metadata": {},
     "output_type": "execute_result"
    },
    {
     "data": {
      "image/png": "[encoded data removed]",
      "text/plain": [
       "<matplotlib.figure.Figure at 0x115389190>"
      ]
     },
     "metadata": {},
     "output_type": "display_data"
    }
   ],
   "source": [
    "df1['Production_(short_tons)'].hist(bins=10)"
   ]
  },
  {
   "cell_type": "code",
   "execution_count": 89,
   "metadata": {
    "collapsed": false
   },
   "outputs": [
    {
     "data": {
      "text/plain": [
       "0"
      ]
     },
     "execution_count": 89,
     "metadata": {},
     "output_type": "execute_result"
    }
   ],
   "source": [
    "#look at the minimum values\n",
    "min(df1['Production_(short_tons)'])"
   ]
  },
  {
   "cell_type": "code",
   "execution_count": 90,
   "metadata": {
    "collapsed": false
   },
   "outputs": [],
   "source": [
    "#look at where the production shorttons is eqaul to zero\n",
    "#df1['Production_(short_tons)'] == 0 \n",
    "\n",
    "#where is the production equal to zero\n",
    "#df1[df1['Production_(short_tons)'] == 0] \n",
    "\n",
    " "
   ]
  },
  {
   "cell_type": "markdown",
   "metadata": {},
   "source": [
    "There are quite a number of mines that had no production values. Next trying to look at the mines that produced at least 1 tons or more. \n",
    "\n",
    "### Slicing the data"
   ]
  },
  {
   "cell_type": "code",
   "execution_count": 91,
   "metadata": {
    "collapsed": false
   },
   "outputs": [
    {
     "data": {
      "text/html": [
       "<div>\n",
       "<table border=\"1\" class=\"dataframe\">\n",
       "  <thead>\n",
       "    <tr style=\"text-align: right;\">\n",
       "      <th></th>\n",
       "      <th>Year</th>\n",
       "      <th>Mine_Name</th>\n",
       "      <th>Mine_State</th>\n",
       "      <th>Mine_County</th>\n",
       "      <th>Mine_Status</th>\n",
       "      <th>Mine_Type</th>\n",
       "      <th>Company_Type</th>\n",
       "      <th>Operation_Type</th>\n",
       "      <th>Operating_Company</th>\n",
       "      <th>Operating_Company_Address</th>\n",
       "      <th>Union_Code</th>\n",
       "      <th>Coal_Supply_Region</th>\n",
       "      <th>Production_(short_tons)</th>\n",
       "      <th>Average_Employees</th>\n",
       "      <th>Labor_Hours</th>\n",
       "    </tr>\n",
       "    <tr>\n",
       "      <th>MSHA ID</th>\n",
       "      <th></th>\n",
       "      <th></th>\n",
       "      <th></th>\n",
       "      <th></th>\n",
       "      <th></th>\n",
       "      <th></th>\n",
       "      <th></th>\n",
       "      <th></th>\n",
       "      <th></th>\n",
       "      <th></th>\n",
       "      <th></th>\n",
       "      <th></th>\n",
       "      <th></th>\n",
       "      <th></th>\n",
       "      <th></th>\n",
       "    </tr>\n",
       "  </thead>\n",
       "  <tbody>\n",
       "    <tr>\n",
       "      <th>103381</th>\n",
       "      <td>2015</td>\n",
       "      <td>Jesse Creek H.W.M.</td>\n",
       "      <td>Alabama</td>\n",
       "      <td>Bibb</td>\n",
       "      <td>Active</td>\n",
       "      <td>Surface</td>\n",
       "      <td>Independent Producer Operator</td>\n",
       "      <td>Mine only</td>\n",
       "      <td>Jesse Creek Mining,llc</td>\n",
       "      <td>1615 Kent Dairy Rd, Alabaster, AL 35007</td>\n",
       "      <td>NaN</td>\n",
       "      <td>Appalachia Southern</td>\n",
       "      <td>62598</td>\n",
       "      <td>6</td>\n",
       "      <td>13713</td>\n",
       "    </tr>\n",
       "    <tr>\n",
       "      <th>103246</th>\n",
       "      <td>2015</td>\n",
       "      <td>Bear Creek</td>\n",
       "      <td>Alabama</td>\n",
       "      <td>Franklin</td>\n",
       "      <td>Temporarily closed</td>\n",
       "      <td>Surface</td>\n",
       "      <td>Independent Producer Operator</td>\n",
       "      <td>Mine only</td>\n",
       "      <td>Birmingham Coal &amp; Coke Co., In</td>\n",
       "      <td>912 Edenton Street, Birmingham, AL 35242</td>\n",
       "      <td>NaN</td>\n",
       "      <td>Appalachia Southern</td>\n",
       "      <td>25481</td>\n",
       "      <td>9</td>\n",
       "      <td>17641</td>\n",
       "    </tr>\n",
       "    <tr>\n",
       "      <th>103451</th>\n",
       "      <td>2015</td>\n",
       "      <td>Knight Mine</td>\n",
       "      <td>Alabama</td>\n",
       "      <td>Franklin</td>\n",
       "      <td>Temporarily closed</td>\n",
       "      <td>Surface</td>\n",
       "      <td>Independent Producer Operator</td>\n",
       "      <td>Mine only</td>\n",
       "      <td>Birmingham Coal &amp; Coke Co., In</td>\n",
       "      <td>P.O. Box 354, Lynn, AL 35242</td>\n",
       "      <td>NaN</td>\n",
       "      <td>Appalachia Southern</td>\n",
       "      <td>121474</td>\n",
       "      <td>21</td>\n",
       "      <td>51729</td>\n",
       "    </tr>\n",
       "    <tr>\n",
       "      <th>102933</th>\n",
       "      <td>2015</td>\n",
       "      <td>Mine No 2</td>\n",
       "      <td>Alabama</td>\n",
       "      <td>Jackson</td>\n",
       "      <td>Temporarily closed</td>\n",
       "      <td>Surface</td>\n",
       "      <td>Independent Producer Operator</td>\n",
       "      <td>Mine only</td>\n",
       "      <td>Alabama Carbon, Llc</td>\n",
       "      <td>5957 Windswept Blvd, Wise, VA 24293</td>\n",
       "      <td>NaN</td>\n",
       "      <td>Appalachia Southern</td>\n",
       "      <td>3939</td>\n",
       "      <td>5</td>\n",
       "      <td>5287</td>\n",
       "    </tr>\n",
       "    <tr>\n",
       "      <th>100627</th>\n",
       "      <td>2015</td>\n",
       "      <td>Flat Top Mine</td>\n",
       "      <td>Alabama</td>\n",
       "      <td>Jefferson</td>\n",
       "      <td>Active</td>\n",
       "      <td>Surface</td>\n",
       "      <td>Independent Producer Operator</td>\n",
       "      <td>Mine only</td>\n",
       "      <td>Cedar Lake Mining, Inc</td>\n",
       "      <td>7802 Highway 78, Cordova, AL 35550</td>\n",
       "      <td>NaN</td>\n",
       "      <td>Appalachia Southern</td>\n",
       "      <td>256521</td>\n",
       "      <td>37</td>\n",
       "      <td>103971</td>\n",
       "    </tr>\n",
       "  </tbody>\n",
       "</table>\n",
       "</div>"
      ],
      "text/plain": [
       "         Year           Mine_Name Mine_State Mine_County         Mine_Status  \\\n",
       "MSHA ID                                                                        \n",
       "103381   2015  Jesse Creek H.W.M.    Alabama        Bibb              Active   \n",
       "103246   2015          Bear Creek    Alabama    Franklin  Temporarily closed   \n",
       "103451   2015         Knight Mine    Alabama    Franklin  Temporarily closed   \n",
       "102933   2015           Mine No 2    Alabama     Jackson  Temporarily closed   \n",
       "100627   2015       Flat Top Mine    Alabama   Jefferson              Active   \n",
       "\n",
       "        Mine_Type                   Company_Type Operation_Type  \\\n",
       "MSHA ID                                                           \n",
       "103381    Surface  Independent Producer Operator      Mine only   \n",
       "103246    Surface  Independent Producer Operator      Mine only   \n",
       "103451    Surface  Independent Producer Operator      Mine only   \n",
       "102933    Surface  Independent Producer Operator      Mine only   \n",
       "100627    Surface  Independent Producer Operator      Mine only   \n",
       "\n",
       "                      Operating_Company  \\\n",
       "MSHA ID                                   \n",
       "103381           Jesse Creek Mining,llc   \n",
       "103246   Birmingham Coal & Coke Co., In   \n",
       "103451   Birmingham Coal & Coke Co., In   \n",
       "102933              Alabama Carbon, Llc   \n",
       "100627           Cedar Lake Mining, Inc   \n",
       "\n",
       "                        Operating_Company_Address Union_Code  \\\n",
       "MSHA ID                                                        \n",
       "103381    1615 Kent Dairy Rd, Alabaster, AL 35007        NaN   \n",
       "103246   912 Edenton Street, Birmingham, AL 35242        NaN   \n",
       "103451               P.O. Box 354, Lynn, AL 35242        NaN   \n",
       "102933        5957 Windswept Blvd, Wise, VA 24293        NaN   \n",
       "100627         7802 Highway 78, Cordova, AL 35550        NaN   \n",
       "\n",
       "          Coal_Supply_Region  Production_(short_tons)  Average_Employees  \\\n",
       "MSHA ID                                                                    \n",
       "103381   Appalachia Southern                    62598                  6   \n",
       "103246   Appalachia Southern                    25481                  9   \n",
       "103451   Appalachia Southern                   121474                 21   \n",
       "102933   Appalachia Southern                     3939                  5   \n",
       "100627   Appalachia Southern                   256521                 37   \n",
       "\n",
       "         Labor_Hours  \n",
       "MSHA ID               \n",
       "103381         13713  \n",
       "103246         17641  \n",
       "103451         51729  \n",
       "102933          5287  \n",
       "100627        103971  "
      ]
     },
     "execution_count": 91,
     "metadata": {},
     "output_type": "execute_result"
    }
   ],
   "source": [
    "#where is the production is at least 1 tonne\n",
    "df = df1[df1['Production_(short_tons)'] >1 ]\n",
    "df.head()"
   ]
  },
  {
   "cell_type": "code",
   "execution_count": 92,
   "metadata": {
    "collapsed": false
   },
   "outputs": [
    {
     "data": {
      "text/plain": [
       "853"
      ]
     },
     "execution_count": 92,
     "metadata": {},
     "output_type": "execute_result"
    }
   ],
   "source": [
    "len(df)"
   ]
  },
  {
   "cell_type": "code",
   "execution_count": 93,
   "metadata": {
    "collapsed": false
   },
   "outputs": [
    {
     "data": {
      "text/plain": [
       "<matplotlib.axes._subplots.AxesSubplot at 0x11554d710>"
      ]
     },
     "execution_count": 93,
     "metadata": {},
     "output_type": "execute_result"
    },
    {
     "data": {
      "image/png": "[encoded data removed]",
      "text/plain": [
       "<matplotlib.figure.Figure at 0x114ed8f10>"
      ]
     },
     "metadata": {},
     "output_type": "display_data"
    }
   ],
   "source": [
    "df['Production_(short_tons)'].hist(bins=10)"
   ]
  },
  {
   "cell_type": "markdown",
   "metadata": {},
   "source": [
    "Still a skewed distribution...Need to standardize/normalize the data by taking the log"
   ]
  },
  {
   "cell_type": "code",
   "execution_count": 97,
   "metadata": {
    "collapsed": false
   },
   "outputs": [
    {
     "name": "stderr",
     "output_type": "stream",
     "text": [
      "/Users/shirojean/miniconda2/lib/python2.7/site-packages/ipykernel/__main__.py:2: SettingWithCopyWarning: \n",
      "A value is trying to be set on a copy of a slice from a DataFrame.\n",
      "Try using .loc[row_indexer,col_indexer] = value instead\n",
      "\n",
      "See the caveats in the documentation: http://pandas.pydata.org/pandas-docs/stable/indexing.html#indexing-view-versus-copy\n",
      "  from ipykernel import kernelapp as app\n"
     ]
    }
   ],
   "source": [
    "#create a new column \"log_production\" \n",
    "df[\"log_production\"]= np.log(df['Production_(short_tons)'])"
   ]
  },
  {
   "cell_type": "code",
   "execution_count": 98,
   "metadata": {
    "collapsed": false
   },
   "outputs": [
    {
     "data": {
      "text/plain": [
       "<matplotlib.axes._subplots.AxesSubplot at 0x113c22650>"
      ]
     },
     "execution_count": 98,
     "metadata": {},
     "output_type": "execute_result"
    },
    {
     "data": {
      "image/png": "[encoded data removed]",
      "text/plain": [
       "<matplotlib.figure.Figure at 0x1158caa50>"
      ]
     },
     "metadata": {},
     "output_type": "display_data"
    }
   ],
   "source": [
    "df.log_production.hist()"
   ]
  },
  {
   "cell_type": "markdown",
   "metadata": {},
   "source": [
    "close to a log normal distribution, thus the production of coal mines follows a log normal distribution. I will stick with this as my prediction variable. \n",
    "\n",
    "##### Summary of Steps\n",
    "1. Loaded the data\n",
    "2. Renames the columns\n",
    "3. Variable transformation\n",
    "4. Identified the target variable (production of mines)\n",
    "5. Save the clean version of dataset"
   ]
  },
  {
   "cell_type": "code",
   "execution_count": 100,
   "metadata": {
    "collapsed": true
   },
   "outputs": [],
   "source": [
    "#save the cleaner version of dataframe for future analyis\n",
    "df.to_csv('../data/cleaned_coalpublic2015.csv')"
   ]
  },
  {
   "cell_type": "code",
   "execution_count": null,
   "metadata": {
    "collapsed": true
   },
   "outputs": [],
   "source": []
  }
 ],
 "metadata": {
  "anaconda-cloud": {},
  "kernelspec": {
   "display_name": "Python 2",
   "language": "python",
   "name": "python2"
  },
  "language_info": {
   "codemirror_mode": {
    "name": "ipython",
    "version": 2
   },
   "file_extension": ".py",
   "mimetype": "text/x-python",
   "name": "python",
   "nbconvert_exporter": "python",
   "pygments_lexer": "ipython2",
   "version": "2.7.12"
  }
 },
 "nbformat": 4,
 "nbformat_minor": 1
}
