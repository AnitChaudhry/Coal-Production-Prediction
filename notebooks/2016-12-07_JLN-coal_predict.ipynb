{
 "cells": [
  {
   "cell_type": "markdown",
   "metadata": {},
   "source": [
    "## Make a prediction about the coal production"
   ]
  },
  {
   "cell_type": "code",
   "execution_count": 185,
   "metadata": {
    "collapsed": false
   },
   "outputs": [],
   "source": [
    "%matplotlib inline\n",
    "import matplotlib.pyplot as plt\n",
    "\n",
    "import pandas as pd\n",
    "import numpy as np\n",
    "import seaborn as sns\n",
    "sns.set();\n"
   ]
  },
  {
   "cell_type": "markdown",
   "metadata": {},
   "source": [
    "# 1.0 Load Data \n",
    "Date Source: http://www.eia.gov/coal/data.php#production"
   ]
  },
  {
   "cell_type": "code",
   "execution_count": 186,
   "metadata": {
    "collapsed": false
   },
   "outputs": [
    {
     "data": {
      "text/html": [
       "<div>\n",
       "<table border=\"1\" class=\"dataframe\">\n",
       "  <thead>\n",
       "    <tr style=\"text-align: right;\">\n",
       "      <th></th>\n",
       "      <th>Year</th>\n",
       "      <th>Mine_Name</th>\n",
       "      <th>Mine_State</th>\n",
       "      <th>Mine_County</th>\n",
       "      <th>Mine_Status</th>\n",
       "      <th>Mine_Type</th>\n",
       "      <th>Company_Type</th>\n",
       "      <th>Operation_Type</th>\n",
       "      <th>Operating_Company</th>\n",
       "      <th>Operating_Company_Address</th>\n",
       "      <th>Union_Code</th>\n",
       "      <th>Coal_Supply_Region</th>\n",
       "      <th>Production_(short_tons)</th>\n",
       "      <th>Average_Employees</th>\n",
       "      <th>Labor_Hours</th>\n",
       "      <th>log_production</th>\n",
       "    </tr>\n",
       "    <tr>\n",
       "      <th>MSHA ID</th>\n",
       "      <th></th>\n",
       "      <th></th>\n",
       "      <th></th>\n",
       "      <th></th>\n",
       "      <th></th>\n",
       "      <th></th>\n",
       "      <th></th>\n",
       "      <th></th>\n",
       "      <th></th>\n",
       "      <th></th>\n",
       "      <th></th>\n",
       "      <th></th>\n",
       "      <th></th>\n",
       "      <th></th>\n",
       "      <th></th>\n",
       "      <th></th>\n",
       "    </tr>\n",
       "  </thead>\n",
       "  <tbody>\n",
       "    <tr>\n",
       "      <th>103381</th>\n",
       "      <td>2015</td>\n",
       "      <td>Jesse Creek H.W.M.</td>\n",
       "      <td>Alabama</td>\n",
       "      <td>Bibb</td>\n",
       "      <td>Active</td>\n",
       "      <td>Surface</td>\n",
       "      <td>Independent Producer Operator</td>\n",
       "      <td>Mine only</td>\n",
       "      <td>Jesse Creek Mining,llc</td>\n",
       "      <td>1615 Kent Dairy Rd, Alabaster, AL 35007</td>\n",
       "      <td>NaN</td>\n",
       "      <td>Appalachia Southern</td>\n",
       "      <td>62598</td>\n",
       "      <td>6</td>\n",
       "      <td>13713</td>\n",
       "      <td>11.044489</td>\n",
       "    </tr>\n",
       "    <tr>\n",
       "      <th>103246</th>\n",
       "      <td>2015</td>\n",
       "      <td>Bear Creek</td>\n",
       "      <td>Alabama</td>\n",
       "      <td>Franklin</td>\n",
       "      <td>Temporarily closed</td>\n",
       "      <td>Surface</td>\n",
       "      <td>Independent Producer Operator</td>\n",
       "      <td>Mine only</td>\n",
       "      <td>Birmingham Coal &amp; Coke Co., In</td>\n",
       "      <td>912 Edenton Street, Birmingham, AL 35242</td>\n",
       "      <td>NaN</td>\n",
       "      <td>Appalachia Southern</td>\n",
       "      <td>25481</td>\n",
       "      <td>9</td>\n",
       "      <td>17641</td>\n",
       "      <td>10.145688</td>\n",
       "    </tr>\n",
       "    <tr>\n",
       "      <th>103451</th>\n",
       "      <td>2015</td>\n",
       "      <td>Knight Mine</td>\n",
       "      <td>Alabama</td>\n",
       "      <td>Franklin</td>\n",
       "      <td>Temporarily closed</td>\n",
       "      <td>Surface</td>\n",
       "      <td>Independent Producer Operator</td>\n",
       "      <td>Mine only</td>\n",
       "      <td>Birmingham Coal &amp; Coke Co., In</td>\n",
       "      <td>P.O. Box 354, Lynn, AL 35242</td>\n",
       "      <td>NaN</td>\n",
       "      <td>Appalachia Southern</td>\n",
       "      <td>121474</td>\n",
       "      <td>21</td>\n",
       "      <td>51729</td>\n",
       "      <td>11.707456</td>\n",
       "    </tr>\n",
       "    <tr>\n",
       "      <th>102933</th>\n",
       "      <td>2015</td>\n",
       "      <td>Mine No 2</td>\n",
       "      <td>Alabama</td>\n",
       "      <td>Jackson</td>\n",
       "      <td>Temporarily closed</td>\n",
       "      <td>Surface</td>\n",
       "      <td>Independent Producer Operator</td>\n",
       "      <td>Mine only</td>\n",
       "      <td>Alabama Carbon, Llc</td>\n",
       "      <td>5957 Windswept Blvd, Wise, VA 24293</td>\n",
       "      <td>NaN</td>\n",
       "      <td>Appalachia Southern</td>\n",
       "      <td>3939</td>\n",
       "      <td>5</td>\n",
       "      <td>5287</td>\n",
       "      <td>8.278682</td>\n",
       "    </tr>\n",
       "    <tr>\n",
       "      <th>100627</th>\n",
       "      <td>2015</td>\n",
       "      <td>Flat Top Mine</td>\n",
       "      <td>Alabama</td>\n",
       "      <td>Jefferson</td>\n",
       "      <td>Active</td>\n",
       "      <td>Surface</td>\n",
       "      <td>Independent Producer Operator</td>\n",
       "      <td>Mine only</td>\n",
       "      <td>Cedar Lake Mining, Inc</td>\n",
       "      <td>7802 Highway 78, Cordova, AL 35550</td>\n",
       "      <td>NaN</td>\n",
       "      <td>Appalachia Southern</td>\n",
       "      <td>256521</td>\n",
       "      <td>37</td>\n",
       "      <td>103971</td>\n",
       "      <td>12.454966</td>\n",
       "    </tr>\n",
       "  </tbody>\n",
       "</table>\n",
       "</div>"
      ],
      "text/plain": [
       "         Year           Mine_Name Mine_State Mine_County         Mine_Status  \\\n",
       "MSHA ID                                                                        \n",
       "103381   2015  Jesse Creek H.W.M.    Alabama        Bibb              Active   \n",
       "103246   2015          Bear Creek    Alabama    Franklin  Temporarily closed   \n",
       "103451   2015         Knight Mine    Alabama    Franklin  Temporarily closed   \n",
       "102933   2015           Mine No 2    Alabama     Jackson  Temporarily closed   \n",
       "100627   2015       Flat Top Mine    Alabama   Jefferson              Active   \n",
       "\n",
       "        Mine_Type                   Company_Type Operation_Type  \\\n",
       "MSHA ID                                                           \n",
       "103381    Surface  Independent Producer Operator      Mine only   \n",
       "103246    Surface  Independent Producer Operator      Mine only   \n",
       "103451    Surface  Independent Producer Operator      Mine only   \n",
       "102933    Surface  Independent Producer Operator      Mine only   \n",
       "100627    Surface  Independent Producer Operator      Mine only   \n",
       "\n",
       "                      Operating_Company  \\\n",
       "MSHA ID                                   \n",
       "103381           Jesse Creek Mining,llc   \n",
       "103246   Birmingham Coal & Coke Co., In   \n",
       "103451   Birmingham Coal & Coke Co., In   \n",
       "102933              Alabama Carbon, Llc   \n",
       "100627           Cedar Lake Mining, Inc   \n",
       "\n",
       "                        Operating_Company_Address Union_Code  \\\n",
       "MSHA ID                                                        \n",
       "103381    1615 Kent Dairy Rd, Alabaster, AL 35007        NaN   \n",
       "103246   912 Edenton Street, Birmingham, AL 35242        NaN   \n",
       "103451               P.O. Box 354, Lynn, AL 35242        NaN   \n",
       "102933        5957 Windswept Blvd, Wise, VA 24293        NaN   \n",
       "100627         7802 Highway 78, Cordova, AL 35550        NaN   \n",
       "\n",
       "          Coal_Supply_Region  Production_(short_tons)  Average_Employees  \\\n",
       "MSHA ID                                                                    \n",
       "103381   Appalachia Southern                    62598                  6   \n",
       "103246   Appalachia Southern                    25481                  9   \n",
       "103451   Appalachia Southern                   121474                 21   \n",
       "102933   Appalachia Southern                     3939                  5   \n",
       "100627   Appalachia Southern                   256521                 37   \n",
       "\n",
       "         Labor_Hours  log_production  \n",
       "MSHA ID                               \n",
       "103381         13713       11.044489  \n",
       "103246         17641       10.145688  \n",
       "103451         51729       11.707456  \n",
       "102933          5287        8.278682  \n",
       "100627        103971       12.454966  "
      ]
     },
     "execution_count": 186,
     "metadata": {},
     "output_type": "execute_result"
    }
   ],
   "source": [
    "#Set index to MSHA ID\n",
    "df=pd.read_csv('../data/cleaned_coalpublic2015.csv', index_col='MSHA ID')\n",
    "df.head()"
   ]
  },
  {
   "cell_type": "code",
   "execution_count": 187,
   "metadata": {
    "collapsed": false
   },
   "outputs": [
    {
     "data": {
      "text/plain": [
       "853"
      ]
     },
     "execution_count": 187,
     "metadata": {},
     "output_type": "execute_result"
    }
   ],
   "source": [
    "len(df)"
   ]
  },
  {
   "cell_type": "code",
   "execution_count": 188,
   "metadata": {
    "collapsed": false
   },
   "outputs": [],
   "source": [
    "#create a new column \"log_production\" \n",
    "df[\"log_production\"]= np.log(df['Production_(short_tons)'])"
   ]
  },
  {
   "cell_type": "code",
   "execution_count": 189,
   "metadata": {
    "collapsed": false
   },
   "outputs": [
    {
     "data": {
      "text/plain": [
       "<matplotlib.axes._subplots.AxesSubplot at 0x10f9cec50>"
      ]
     },
     "execution_count": 189,
     "metadata": {},
     "output_type": "execute_result"
    },
    {
     "data": {
      "image/png": "[encoded data removed]",
      "text/plain": [
       "<matplotlib.figure.Figure at 0x11249f7d0>"
      ]
     },
     "metadata": {},
     "output_type": "display_data"
    }
   ],
   "source": [
    "df.log_production.hist()"
   ]
  },
  {
   "cell_type": "code",
   "execution_count": 190,
   "metadata": {
    "collapsed": false
   },
   "outputs": [
    {
     "data": {
      "text/plain": [
       "array(['Active', 'Temporarily closed', 'Permanently abandoned',\n",
       "       'Active, men working, not producing'], dtype=object)"
      ]
     },
     "execution_count": 190,
     "metadata": {},
     "output_type": "execute_result"
    }
   ],
   "source": [
    "#May be predictive variable: A good predictor in how productive the mine is.\n",
    "df.Mine_Status.unique()"
   ]
  },
  {
   "cell_type": "code",
   "execution_count": 191,
   "metadata": {
    "collapsed": false
   },
   "outputs": [
    {
     "data": {
      "text/html": [
       "<div>\n",
       "<table border=\"1\" class=\"dataframe\">\n",
       "  <thead>\n",
       "    <tr style=\"text-align: right;\">\n",
       "      <th></th>\n",
       "      <th>Production_(short_tons)</th>\n",
       "    </tr>\n",
       "    <tr>\n",
       "      <th>Mine_Status</th>\n",
       "      <th></th>\n",
       "    </tr>\n",
       "  </thead>\n",
       "  <tbody>\n",
       "    <tr>\n",
       "      <th>Active</th>\n",
       "      <td>1.588046e+06</td>\n",
       "    </tr>\n",
       "    <tr>\n",
       "      <th>Active, men working, not producing</th>\n",
       "      <td>2.834705e+05</td>\n",
       "    </tr>\n",
       "    <tr>\n",
       "      <th>Permanently abandoned</th>\n",
       "      <td>5.949539e+04</td>\n",
       "    </tr>\n",
       "    <tr>\n",
       "      <th>Temporarily closed</th>\n",
       "      <td>5.024980e+04</td>\n",
       "    </tr>\n",
       "  </tbody>\n",
       "</table>\n",
       "</div>"
      ],
      "text/plain": [
       "                                    Production_(short_tons)\n",
       "Mine_Status                                                \n",
       "Active                                         1.588046e+06\n",
       "Active, men working, not producing             2.834705e+05\n",
       "Permanently abandoned                          5.949539e+04\n",
       "Temporarily closed                             5.024980e+04"
      ]
     },
     "execution_count": 191,
     "metadata": {},
     "output_type": "execute_result"
    }
   ],
   "source": [
    "#\n",
    "df[['Mine_Status','Production_(short_tons)']].groupby('Mine_Status').mean()\n"
   ]
  },
  {
   "cell_type": "code",
   "execution_count": 192,
   "metadata": {
    "collapsed": false
   },
   "outputs": [
    {
     "data": {
      "text/html": [
       "<div>\n",
       "<table border=\"1\" class=\"dataframe\">\n",
       "  <thead>\n",
       "    <tr style=\"text-align: right;\">\n",
       "      <th></th>\n",
       "      <th>log_production</th>\n",
       "    </tr>\n",
       "    <tr>\n",
       "      <th>Mine_Status</th>\n",
       "      <th></th>\n",
       "    </tr>\n",
       "  </thead>\n",
       "  <tbody>\n",
       "    <tr>\n",
       "      <th>Active</th>\n",
       "      <td>11.979012</td>\n",
       "    </tr>\n",
       "    <tr>\n",
       "      <th>Active, men working, not producing</th>\n",
       "      <td>11.289035</td>\n",
       "    </tr>\n",
       "    <tr>\n",
       "      <th>Permanently abandoned</th>\n",
       "      <td>10.120947</td>\n",
       "    </tr>\n",
       "    <tr>\n",
       "      <th>Temporarily closed</th>\n",
       "      <td>9.203329</td>\n",
       "    </tr>\n",
       "  </tbody>\n",
       "</table>\n",
       "</div>"
      ],
      "text/plain": [
       "                                    log_production\n",
       "Mine_Status                                       \n",
       "Active                                   11.979012\n",
       "Active, men working, not producing       11.289035\n",
       "Permanently abandoned                    10.120947\n",
       "Temporarily closed                        9.203329"
      ]
     },
     "execution_count": 192,
     "metadata": {},
     "output_type": "execute_result"
    }
   ],
   "source": [
    "#\n",
    "df[['Mine_Status','log_production']].groupby('Mine_Status').mean()"
   ]
  },
  {
   "cell_type": "markdown",
   "metadata": {},
   "source": [
    "## Predict the production of coal mines in 2015\n",
    "What caused high or lower production\n",
    "\n",
    "### Feature Engineering"
   ]
  },
  {
   "cell_type": "code",
   "execution_count": 193,
   "metadata": {
    "collapsed": false
   },
   "outputs": [
    {
     "name": "stdout",
     "output_type": "stream",
     "text": [
      "Year\n",
      "Mine_Name\n",
      "Mine_State\n",
      "Mine_County\n",
      "Mine_Status\n",
      "Mine_Type\n",
      "Company_Type\n",
      "Operation_Type\n",
      "Operating_Company\n",
      "Operating_Company_Address\n",
      "Union_Code\n",
      "Coal_Supply_Region\n",
      "Production_(short_tons)\n",
      "Average_Employees\n",
      "Labor_Hours\n",
      "log_production\n"
     ]
    }
   ],
   "source": [
    "for columns in df:\n",
    "    print columns"
   ]
  },
  {
   "cell_type": "code",
   "execution_count": 194,
   "metadata": {
    "collapsed": false
   },
   "outputs": [
    {
     "data": {
      "text/plain": [
       "array([nan, 'United Mine Workers Of America',\n",
       "       'International Brotherhood Of Teamsters, Chauffeurs, Warehouse',\n",
       "       'International Union Of Operation Engineers',\n",
       "       'International Brotherhood Of Electrical Workers',\n",
       "       'Western Energy Workers'], dtype=object)"
      ]
     },
     "execution_count": 194,
     "metadata": {},
     "output_type": "execute_result"
    }
   ],
   "source": [
    "df.Union_Code.unique()"
   ]
  },
  {
   "cell_type": "markdown",
   "metadata": {},
   "source": [
    "Of the above features on two are number: labour hours and Average_employee--Split into numerical features; and categorical variables"
   ]
  },
  {
   "cell_type": "code",
   "execution_count": 195,
   "metadata": {
    "collapsed": false
   },
   "outputs": [],
   "source": [
    "features =[\"Average_Employees\",\n",
    "            \"Labor_Hours\" ,\n",
    "              ]\n",
    "\n",
    "categoricals = ['Mine_State',\n",
    "               'Mine_County',\n",
    "               'Mine_Status',\n",
    "               'Mine_Type',\n",
    "               \"Company_Type\",\n",
    "               \"Operation_Type\",\n",
    "               \"Union_Code\",\n",
    "               \"Coal_Supply_Region\",\n",
    "                      ]\n",
    "           \n",
    "df.target = ['log_production'] "
   ]
  },
  {
   "cell_type": "markdown",
   "metadata": {},
   "source": [
    "### What is the relationship between Mine_Status and log_production?"
   ]
  },
  {
   "cell_type": "code",
   "execution_count": 196,
   "metadata": {
    "collapsed": false,
    "scrolled": true
   },
   "outputs": [
    {
     "data": {
      "image/png": "[encoded data removed]",
      "text/plain": [
       "<matplotlib.figure.Figure at 0x1124a7dd0>"
      ]
     },
     "metadata": {},
     "output_type": "display_data"
    }
   ],
   "source": [
    "#fig = plt.sublots(figsize = (14,8))\n",
    "plt.figure(figsize=(8,4))\n",
    "sns.set_context('poster')\n",
    "sns.violinplot(y=\"Mine_Status\", x = \"log_production\", data=df,\n",
    "              inplace =True, inner =\"quartile\")\n",
    "plt.tight_layout()"
   ]
  },
  {
   "cell_type": "code",
   "execution_count": 197,
   "metadata": {
    "collapsed": false
   },
   "outputs": [
    {
     "data": {
      "image/png": "[encoded data removed]",
      "text/plain": [
       "<matplotlib.figure.Figure at 0x10f9c9cd0>"
      ]
     },
     "metadata": {},
     "output_type": "display_data"
    }
   ],
   "source": [
    "plt.figure(figsize=(8,4))\n",
    "sns.set_context('poster')\n",
    "sns.violinplot(y=\"Company_Type\", x = \"log_production\", data=df,\n",
    "              inplace =True, inner =\"box\", )\n",
    "plt.tight_layout()"
   ]
  },
  {
   "cell_type": "code",
   "execution_count": 198,
   "metadata": {
    "collapsed": false
   },
   "outputs": [
    {
     "data": {
      "text/html": [
       "<div>\n",
       "<table border=\"1\" class=\"dataframe\">\n",
       "  <thead>\n",
       "    <tr style=\"text-align: right;\">\n",
       "      <th></th>\n",
       "      <th>Contractor</th>\n",
       "      <th>Independent Producer Operator</th>\n",
       "      <th>Operating Subsidiary</th>\n",
       "    </tr>\n",
       "    <tr>\n",
       "      <th>MSHA ID</th>\n",
       "      <th></th>\n",
       "      <th></th>\n",
       "      <th></th>\n",
       "    </tr>\n",
       "  </thead>\n",
       "  <tbody>\n",
       "    <tr>\n",
       "      <th>4102776</th>\n",
       "      <td>0</td>\n",
       "      <td>1</td>\n",
       "      <td>0</td>\n",
       "    </tr>\n",
       "    <tr>\n",
       "      <th>3607443</th>\n",
       "      <td>0</td>\n",
       "      <td>1</td>\n",
       "      <td>0</td>\n",
       "    </tr>\n",
       "    <tr>\n",
       "      <th>4003441</th>\n",
       "      <td>0</td>\n",
       "      <td>1</td>\n",
       "      <td>0</td>\n",
       "    </tr>\n",
       "    <tr>\n",
       "      <th>4407288</th>\n",
       "      <td>0</td>\n",
       "      <td>1</td>\n",
       "      <td>0</td>\n",
       "    </tr>\n",
       "    <tr>\n",
       "      <th>4606213</th>\n",
       "      <td>0</td>\n",
       "      <td>1</td>\n",
       "      <td>0</td>\n",
       "    </tr>\n",
       "  </tbody>\n",
       "</table>\n",
       "</div>"
      ],
      "text/plain": [
       "         Contractor  Independent Producer Operator  Operating Subsidiary\n",
       "MSHA ID                                                                 \n",
       "4102776           0                              1                     0\n",
       "3607443           0                              1                     0\n",
       "4003441           0                              1                     0\n",
       "4407288           0                              1                     0\n",
       "4606213           0                              1                     0"
      ]
     },
     "execution_count": 198,
     "metadata": {},
     "output_type": "execute_result"
    }
   ],
   "source": [
    "pd.get_dummies(df[\"Company_Type\"]).sample(50).head()"
   ]
  },
  {
   "cell_type": "code",
   "execution_count": 199,
   "metadata": {
    "collapsed": false
   },
   "outputs": [
    {
     "name": "stdout",
     "output_type": "stream",
     "text": [
      "Mine_State 29\n",
      "Mine_County 151\n",
      "Mine_Status 4\n",
      "Mine_Type 3\n",
      "Company_Type 3\n",
      "Operation_Type 2\n",
      "Union_Code 6\n",
      "Coal_Supply_Region 9\n"
     ]
    }
   ],
   "source": [
    "#convert cetegorical varables into dummy numeric variables\n",
    "dummy_categoricals = []\n",
    "for categorical in categoricals:\n",
    "    print categorical, len(df[categorical].unique())\n",
    "    # Avoid the dummy trap variable\n",
    "    drop_var = sorted(df[categorical].unique())[-1]\n",
    "    temp_df = pd.get_dummies(df[categorical], prefix=categorical)\n",
    "    #concanate\n",
    "    df = pd.concat([df, temp_df],axis =1)\n",
    "    temp_df.drop(\"_\".join([categorical,str(drop_var)]), axis =1, inplace=True)\n",
    "    dummy_categoricals += temp_df.columns.tolist()"
   ]
  },
  {
   "cell_type": "code",
   "execution_count": 200,
   "metadata": {
    "collapsed": false
   },
   "outputs": [
    {
     "data": {
      "text/plain": [
       "['Mine_State_Alabama',\n",
       " 'Mine_State_Alaska',\n",
       " 'Mine_State_Arizona',\n",
       " 'Mine_State_Arkansas',\n",
       " 'Mine_State_Colorado',\n",
       " 'Mine_State_Illinois',\n",
       " 'Mine_State_Indiana',\n",
       " 'Mine_State_Kansas',\n",
       " 'Mine_State_Kentucky (East)',\n",
       " 'Mine_State_Kentucky (West)']"
      ]
     },
     "execution_count": 200,
     "metadata": {},
     "output_type": "execute_result"
    }
   ],
   "source": [
    "dummy_categoricals[:10]"
   ]
  },
  {
   "cell_type": "markdown",
   "metadata": {},
   "source": [
    "## Build our Model"
   ]
  },
  {
   "cell_type": "code",
   "execution_count": 201,
   "metadata": {
    "collapsed": false
   },
   "outputs": [],
   "source": [
    "from sklearn.model_selection import train_test_split\n",
    "from sklearn.ensemble import RandomForestRegressor"
   ]
  },
  {
   "cell_type": "code",
   "execution_count": 202,
   "metadata": {
    "collapsed": false
   },
   "outputs": [
    {
     "data": {
      "text/plain": [
       "197"
      ]
     },
     "execution_count": 202,
     "metadata": {},
     "output_type": "execute_result"
    }
   ],
   "source": [
    "len(dummy_categoricals)"
   ]
  },
  {
   "cell_type": "code",
   "execution_count": 203,
   "metadata": {
    "collapsed": false
   },
   "outputs": [],
   "source": [
    "train, test = train_test_split(df, test_size=0.3, random_state=0)"
   ]
  },
  {
   "cell_type": "code",
   "execution_count": 204,
   "metadata": {
    "collapsed": false
   },
   "outputs": [
    {
     "name": "stderr",
     "output_type": "stream",
     "text": [
      "/Users/shirojean/miniconda2/lib/python2.7/site-packages/ipykernel/__main__.py:2: DataConversionWarning: A column-vector y was passed when a 1d array was expected. Please change the shape of y to (n_samples,), for example using ravel().\n",
      "  from ipykernel import kernelapp as app\n"
     ]
    },
    {
     "data": {
      "text/plain": [
       "RandomForestRegressor(bootstrap=True, criterion='mse', max_depth=None,\n",
       "           max_features='auto', max_leaf_nodes=None,\n",
       "           min_impurity_split=1e-07, min_samples_leaf=1,\n",
       "           min_samples_split=2, min_weight_fraction_leaf=0.0,\n",
       "           n_estimators=100, n_jobs=1, oob_score=True, random_state=None,\n",
       "           verbose=0, warm_start=False)"
      ]
     },
     "execution_count": 204,
     "metadata": {},
     "output_type": "execute_result"
    }
   ],
   "source": [
    "model = RandomForestRegressor(n_estimators=100, oob_score=True)\n",
    "model.fit(train[features + dummy_categoricals],train[target])"
   ]
  },
  {
   "cell_type": "code",
   "execution_count": 211,
   "metadata": {
    "collapsed": false
   },
   "outputs": [
    {
     "data": {
      "image/png": "[encoded data removed]",
      "text/plain": [
       "<matplotlib.figure.Figure at 0x114ef6fd0>"
      ]
     },
     "metadata": {},
     "output_type": "display_data"
    }
   ],
   "source": [
    "plt.figure(figsize=(8,4))\n",
    "sns.regplot(test[target], model.predict(test[features + dummy_categoricals]))\n",
    "plt.xlim(0,22)\n",
    "plt.ylim(0,22)\n",
    "plt.tight_layout()"
   ]
  },
  {
   "cell_type": "markdown",
   "metadata": {},
   "source": [
    "## Model evaluatuion: Regression metrics\n",
    "\n",
    "The sklearn.metrics module implements several loss, score, and utility functions to measure regression performance. Some of those have been enhanced to handle the multioutput case: \n",
    "* mean_squared_error, \n",
    "* mean_absolute_error, \n",
    "* explained_variance_score and \n",
    "* r2_score."
   ]
  },
  {
   "cell_type": "code",
   "execution_count": 220,
   "metadata": {
    "collapsed": false
   },
   "outputs": [
    {
     "data": {
      "text/plain": [
       "0.88681615295425809"
      ]
     },
     "execution_count": 220,
     "metadata": {},
     "output_type": "execute_result"
    }
   ],
   "source": [
    "from sklearn.metrics import mean_squared_error, explained_variance_score, r2_score,mean_absolute_error\n",
    "predicted = model.predict(test[features + dummy_categoricals])\n",
    "r2_score(test[target],predicted)"
   ]
  },
  {
   "cell_type": "code",
   "execution_count": 216,
   "metadata": {
    "collapsed": false
   },
   "outputs": [
    {
     "data": {
      "text/plain": [
       "0.57202475681832476"
      ]
     },
     "execution_count": 216,
     "metadata": {},
     "output_type": "execute_result"
    }
   ],
   "source": [
    "mean_absolute_error(test[target], predicted)"
   ]
  },
  {
   "cell_type": "code",
   "execution_count": 217,
   "metadata": {
    "collapsed": false
   },
   "outputs": [
    {
     "data": {
      "text/plain": [
       "0.58432817801084624"
      ]
     },
     "execution_count": 217,
     "metadata": {},
     "output_type": "execute_result"
    }
   ],
   "source": [
    "mean_squared_error(test[target], predicted)"
   ]
  },
  {
   "cell_type": "code",
   "execution_count": 221,
   "metadata": {
    "collapsed": false
   },
   "outputs": [
    {
     "data": {
      "text/plain": [
       "0.88729200912854911"
      ]
     },
     "execution_count": 221,
     "metadata": {},
     "output_type": "execute_result"
    }
   ],
   "source": [
    "explained_variance_score(test[target], predicted)"
   ]
  },
  {
   "cell_type": "code",
   "execution_count": 228,
   "metadata": {
    "collapsed": false
   },
   "outputs": [
    {
     "data": {
      "text/html": [
       "<div>\n",
       "<table border=\"1\" class=\"dataframe\">\n",
       "  <thead>\n",
       "    <tr style=\"text-align: right;\">\n",
       "      <th></th>\n",
       "      <th>importance</th>\n",
       "      <th>name</th>\n",
       "    </tr>\n",
       "  </thead>\n",
       "  <tbody>\n",
       "    <tr>\n",
       "      <th>0</th>\n",
       "      <td>0.791412</td>\n",
       "      <td>Labor_Hours</td>\n",
       "    </tr>\n",
       "    <tr>\n",
       "      <th>1</th>\n",
       "      <td>0.119475</td>\n",
       "      <td>Average_Employees</td>\n",
       "    </tr>\n",
       "    <tr>\n",
       "      <th>2</th>\n",
       "      <td>0.009215</td>\n",
       "      <td>Coal_Supply_Region_Powder River Basin</td>\n",
       "    </tr>\n",
       "    <tr>\n",
       "      <th>3</th>\n",
       "      <td>0.005724</td>\n",
       "      <td>Mine_Type_Surface</td>\n",
       "    </tr>\n",
       "    <tr>\n",
       "      <th>4</th>\n",
       "      <td>0.004157</td>\n",
       "      <td>Mine_Status_Active</td>\n",
       "    </tr>\n",
       "    <tr>\n",
       "      <th>5</th>\n",
       "      <td>0.003393</td>\n",
       "      <td>Mine_County_Greene</td>\n",
       "    </tr>\n",
       "    <tr>\n",
       "      <th>6</th>\n",
       "      <td>0.002612</td>\n",
       "      <td>Coal_Supply_Region_Illinois Basin</td>\n",
       "    </tr>\n",
       "    <tr>\n",
       "      <th>7</th>\n",
       "      <td>0.002412</td>\n",
       "      <td>Coal_Supply_Region_Appalachia Central</td>\n",
       "    </tr>\n",
       "    <tr>\n",
       "      <th>8</th>\n",
       "      <td>0.002336</td>\n",
       "      <td>Operation_Type_Mine and Preparation Plant</td>\n",
       "    </tr>\n",
       "    <tr>\n",
       "      <th>9</th>\n",
       "      <td>0.002211</td>\n",
       "      <td>Mine_County_Somerset</td>\n",
       "    </tr>\n",
       "    <tr>\n",
       "      <th>10</th>\n",
       "      <td>0.002164</td>\n",
       "      <td>Mine_County_Campbell</td>\n",
       "    </tr>\n",
       "    <tr>\n",
       "      <th>11</th>\n",
       "      <td>0.001898</td>\n",
       "      <td>Mine_Type_Refuse</td>\n",
       "    </tr>\n",
       "    <tr>\n",
       "      <th>12</th>\n",
       "      <td>0.001823</td>\n",
       "      <td>Mine_County_Whitley</td>\n",
       "    </tr>\n",
       "    <tr>\n",
       "      <th>13</th>\n",
       "      <td>0.001796</td>\n",
       "      <td>Mine_County_Luzerne</td>\n",
       "    </tr>\n",
       "    <tr>\n",
       "      <th>14</th>\n",
       "      <td>0.001764</td>\n",
       "      <td>Mine_County_Pike</td>\n",
       "    </tr>\n",
       "    <tr>\n",
       "      <th>15</th>\n",
       "      <td>0.001724</td>\n",
       "      <td>Company_Type_Independent Producer Operator</td>\n",
       "    </tr>\n",
       "    <tr>\n",
       "      <th>16</th>\n",
       "      <td>0.001707</td>\n",
       "      <td>Mine_County_Logan</td>\n",
       "    </tr>\n",
       "    <tr>\n",
       "      <th>17</th>\n",
       "      <td>0.001632</td>\n",
       "      <td>Mine_Status_Permanently abandoned</td>\n",
       "    </tr>\n",
       "    <tr>\n",
       "      <th>18</th>\n",
       "      <td>0.001605</td>\n",
       "      <td>Mine_State_Pennsylvania (Anthracite)</td>\n",
       "    </tr>\n",
       "    <tr>\n",
       "      <th>19</th>\n",
       "      <td>0.001583</td>\n",
       "      <td>Mine_Status_Active, men working, not producing</td>\n",
       "    </tr>\n",
       "  </tbody>\n",
       "</table>\n",
       "</div>"
      ],
      "text/plain": [
       "    importance                                            name\n",
       "0     0.791412                                     Labor_Hours\n",
       "1     0.119475                               Average_Employees\n",
       "2     0.009215           Coal_Supply_Region_Powder River Basin\n",
       "3     0.005724                               Mine_Type_Surface\n",
       "4     0.004157                              Mine_Status_Active\n",
       "5     0.003393                              Mine_County_Greene\n",
       "6     0.002612               Coal_Supply_Region_Illinois Basin\n",
       "7     0.002412           Coal_Supply_Region_Appalachia Central\n",
       "8     0.002336       Operation_Type_Mine and Preparation Plant\n",
       "9     0.002211                            Mine_County_Somerset\n",
       "10    0.002164                            Mine_County_Campbell\n",
       "11    0.001898                                Mine_Type_Refuse\n",
       "12    0.001823                             Mine_County_Whitley\n",
       "13    0.001796                             Mine_County_Luzerne\n",
       "14    0.001764                                Mine_County_Pike\n",
       "15    0.001724      Company_Type_Independent Producer Operator\n",
       "16    0.001707                               Mine_County_Logan\n",
       "17    0.001632               Mine_Status_Permanently abandoned\n",
       "18    0.001605            Mine_State_Pennsylvania (Anthracite)\n",
       "19    0.001583  Mine_Status_Active, men working, not producing"
      ]
     },
     "execution_count": 228,
     "metadata": {},
     "output_type": "execute_result"
    }
   ],
   "source": [
    "rf_importance =pd.DataFrame({'name':train[features+dummy_categoricals].columns,\n",
    "                            'importance':model.feature_importances_\n",
    "                            }).sort_values(by='importance', ascending =False).reset_index(drop=True)\n",
    "rf_importance.head(20)"
   ]
  },
  {
   "cell_type": "code",
   "execution_count": null,
   "metadata": {
    "collapsed": true
   },
   "outputs": [],
   "source": []
  }
 ],
 "metadata": {
  "anaconda-cloud": {},
  "kernelspec": {
   "display_name": "Python 2",
   "language": "python",
   "name": "python2"
  },
  "language_info": {
   "codemirror_mode": {
    "name": "ipython",
    "version": 2
   },
   "file_extension": ".py",
   "mimetype": "text/x-python",
   "name": "python",
   "nbconvert_exporter": "python",
   "pygments_lexer": "ipython2",
   "version": "2.7.12"
  }
 },
 "nbformat": 4,
 "nbformat_minor": 1
}
